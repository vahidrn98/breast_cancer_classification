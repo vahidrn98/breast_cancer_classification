{
 "cells": [
  {
   "cell_type": "code",
   "execution_count": 111,
   "metadata": {},
   "outputs": [],
   "source": [
    "import numpy as np\n",
    "import matplotlib.pyplot as plt\n",
    "from matplotlib import style"
   ]
  },
  {
   "cell_type": "code",
   "execution_count": 145,
   "metadata": {},
   "outputs": [],
   "source": [
    "style.use('ggplot')\n",
    "\n",
    "class svm:\n",
    "    def __init__(self,visualize=False):\n",
    "        self.visualize=visualize\n",
    "        self.colors = {-1:'r',1:'b'}\n",
    "        if self.visualize:\n",
    "            self.fig = plt.figure()\n",
    "            self.axis = self.fig.add_subplot(1,1,1)\n",
    "    def train(self,data):\n",
    "            self.data = data\n",
    "            #keeping w and b amount in every opoch: opt_dict = {|w| :[w,b]}\n",
    "            opt_dic = {}\n",
    "            #transforms for creating different w with the same |w|(because we gotta check all of them !)\n",
    "            transforms = [[1,1],[-1,1],[-1,-1],[1,-1]]\n",
    "            #saving w and b values for stepping\n",
    "            all_data = []\n",
    "            for yi in self.data:\n",
    "                for featureset in self.data[yi]:\n",
    "                    for feature in featureset:\n",
    "                        all_data.append(feature)\n",
    "            self.max = max(all_data)\n",
    "            self.min = min(all_data)\n",
    "            #freeing the all_data from memory\n",
    "            all_data = None\n",
    "            step_sizes = [self.max*0.1,self.max*0.01,self.max*0.001]\n",
    "            #b step sizes\n",
    "            b_range_step = 5\n",
    "            b_step = 5\n",
    "            latest_optimum = self.max * 10 #starting definition of vector w\n",
    "            for step in step_sizes:\n",
    "                w = np.array([latest_optimum,latest_optimum])\n",
    "                optimized = False\n",
    "                while not optimized:\n",
    "                    for b in np.arange(-1*self.max*b_range_step,self.max*b_range_step,step*b_step):#third value: step size for arange\n",
    "                        for transformation in transforms:\n",
    "                            w_transformed = w*transformation\n",
    "                            found_option = True\n",
    "                            for yi in self.data:\n",
    "                                for xi in self.data[yi]:\n",
    "                                    if not yi*(np.dot(xi,w_transformed)+b)>=1:\n",
    "                                        found_option = False\n",
    "                                        break # not nesessary to check others since we already got the wrong w and b\n",
    "                            if found_option:\n",
    "                                opt_dic[np.linalg.norm(w_transformed)] = [w_transformed,b]\n",
    "                    if(w[0]<0):\n",
    "                        optimized = True\n",
    "                        print('optimized a step')\n",
    "                    else:\n",
    "                        w = w-step\n",
    "                norms = sorted([n for n in opt_dic])\n",
    "                #opt_dict : |w|: [w,b]\n",
    "                opt_choice = opt_dic[norms[0]]\n",
    "                self.w = opt_choice[0]\n",
    "                self.b = opt_choice[1]\n",
    "                print(opt_choice)\n",
    "                latest_optimum = opt_choice[0][0] + step *2\n",
    "            for i in self.data:\n",
    "                for xi in self.data[i]:\n",
    "                    yi=i\n",
    "                    print(xi,':',yi*(np.dot(self.w,xi)+self.b))\n",
    "    def predict(self,features):\n",
    "            clf = np.sign(np.dot(np.array(features),np.array(self.w))+self.b)\n",
    "            if clf !=0 and self.visualize:\n",
    "                self.axis.scatter(features[0],features[1],s=200,marker='*',c=self.colors[clf])\n",
    "            return clf\n",
    "    def plot_svm(self):\n",
    "        #scattering known featuresets.\n",
    "        [[self.axis.scatter(x[0],x[1],s=100,color=self.colors[i]) for x in data[i]] for i in data]\n",
    "        def hyperplane(x,w,b,v):\n",
    "            # v = (w.x+b)\n",
    "            return (-w[0]*x-b+v) / w[1]\n",
    "        datarange = (self.min*0.9,self.max*1.1)\n",
    "        hyp_x_min = datarange[0]\n",
    "        hyp_x_max = datarange[1]\n",
    "        # w.x + b = 1\n",
    "        # pos sv hyperplane\n",
    "        psv1 = hyperplane(hyp_x_min, self.w, self.b, 1)\n",
    "        psv2 = hyperplane(hyp_x_max, self.w, self.b, 1)\n",
    "        self.axis.plot([hyp_x_min,hyp_x_max], [psv1,psv2], \"k\")\n",
    "        # w.x + b = -1\n",
    "        # negative sv hyperplane\n",
    "        nsv1 = hyperplane(hyp_x_min, self.w, self.b, -1)\n",
    "        nsv2 = hyperplane(hyp_x_max, self.w, self.b, -1)\n",
    "        self.axis.plot([hyp_x_min,hyp_x_max], [nsv1,nsv2], \"k\")\n",
    "\n",
    "        # w.x + b = 0\n",
    "        # decision\n",
    "        db1 = hyperplane(hyp_x_min, self.w, self.b, 0)\n",
    "        db2 = hyperplane(hyp_x_max, self.w, self.b, 0)\n",
    "        self.axis.plot([hyp_x_min,hyp_x_max], [db1,db2], \"g--\")\n",
    "        plt.show()"
   ]
  },
  {
   "cell_type": "code",
   "execution_count": 146,
   "metadata": {},
   "outputs": [
    {
     "data": {
      "image/png": "[encoded data removed]",
      "text/plain": [
       "<Figure size 432x288 with 1 Axes>"
      ]
     },
     "metadata": {},
     "output_type": "display_data"
    }
   ],
   "source": [
    "mysvm = svm(visualize=True)\n",
    "data = {-1:[[1,3],[2,4],[3,5]],1:[[5,7],[6,8],[7,9]]}\n",
    "xs = []\n",
    "ys = []\n",
    "color = []"
   ]
  },
  {
   "cell_type": "code",
   "execution_count": 147,
   "metadata": {},
   "outputs": [
    {
     "name": "stdout",
     "output_type": "stream",
     "text": [
      "optimized a step\n",
      "[array([1.8, 0.9]), -13.5]\n",
      "optimized a step\n",
      "[array([0.63, 0.54]), -5.849999999999753]\n",
      "optimized a step\n",
      "[array([0.513, 0.504]), -5.084999999998487]\n",
      "[1, 3] : 3.0599999999988277\n",
      "[2, 4] : 2.0429999999989974\n",
      "[3, 5] : 1.0259999999991676\n",
      "[5, 7] : 1.008000000000492\n",
      "[6, 8] : 2.025000000000322\n",
      "[7, 9] : 3.0420000000001526\n"
     ]
    }
   ],
   "source": [
    "mysvm.train(data)"
   ]
  },
  {
   "cell_type": "code",
   "execution_count": 138,
   "metadata": {},
   "outputs": [],
   "source": [
    "mysvm.plot_svm()"
   ]
  },
  {
   "cell_type": "code",
   "execution_count": 140,
   "metadata": {},
   "outputs": [
    {
     "name": "stdout",
     "output_type": "stream",
     "text": [
      "[1.0, -1.0, -1.0]\n"
     ]
    }
   ],
   "source": [
    "pred = [[0,10],[1,3],[3,4]]\n",
    "res = []\n",
    "for p in pred:\n",
    "    res.append(mysvm.predict(p))\n",
    "print(res)"
   ]
  },
  {
   "cell_type": "code",
   "execution_count": 141,
   "metadata": {},
   "outputs": [],
   "source": [
    "mysvm.plot_svm()"
   ]
  },
  {
   "cell_type": "code",
   "execution_count": null,
   "metadata": {},
   "outputs": [],
   "source": []
  }
 ],
 "metadata": {
  "kernelspec": {
   "display_name": "Python 3",
   "language": "python",
   "name": "python3"
  },
  "language_info": {
   "codemirror_mode": {
    "name": "ipython",
    "version": 3
   },
   "file_extension": ".py",
   "mimetype": "text/x-python",
   "name": "python",
   "nbconvert_exporter": "python",
   "pygments_lexer": "ipython3",
   "version": "3.7.3"
  }
 },
 "nbformat": 4,
 "nbformat_minor": 2
}
